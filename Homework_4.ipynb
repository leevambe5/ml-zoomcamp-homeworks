{
 "cells": [
  {
   "cell_type": "code",
   "execution_count": 128,
   "id": "0ab3af56",
   "metadata": {},
   "outputs": [],
   "source": [
    "import pandas as pd\n",
    "import numpy as np\n",
    "import matplotlib.pyplot as plt\n",
    "import seaborn as sns\n",
    "from sklearn.model_selection import train_test_split, KFold\n",
    "from sklearn.metrics import roc_auc_score\n",
    "from sklearn.metrics import precision_score, recall_score\n",
    "from sklearn.feature_extraction import DictVectorizer\n",
    "from sklearn.linear_model import LogisticRegression\n",
    "\n",
    "%matplotlib inline"
   ]
  },
  {
   "cell_type": "code",
   "execution_count": 129,
   "id": "dc33160f",
   "metadata": {},
   "outputs": [
    {
     "data": {
      "text/html": [
       "<div>\n",
       "<style scoped>\n",
       "    .dataframe tbody tr th:only-of-type {\n",
       "        vertical-align: middle;\n",
       "    }\n",
       "\n",
       "    .dataframe tbody tr th {\n",
       "        vertical-align: top;\n",
       "    }\n",
       "\n",
       "    .dataframe thead th {\n",
       "        text-align: right;\n",
       "    }\n",
       "</style>\n",
       "<table border=\"1\" class=\"dataframe\">\n",
       "  <thead>\n",
       "    <tr style=\"text-align: right;\">\n",
       "      <th></th>\n",
       "      <th>lead_source</th>\n",
       "      <th>industry</th>\n",
       "      <th>number_of_courses_viewed</th>\n",
       "      <th>annual_income</th>\n",
       "      <th>employment_status</th>\n",
       "      <th>location</th>\n",
       "      <th>interaction_count</th>\n",
       "      <th>lead_score</th>\n",
       "      <th>converted</th>\n",
       "    </tr>\n",
       "  </thead>\n",
       "  <tbody>\n",
       "    <tr>\n",
       "      <th>0</th>\n",
       "      <td>paid_ads</td>\n",
       "      <td>NaN</td>\n",
       "      <td>1</td>\n",
       "      <td>79450.0</td>\n",
       "      <td>unemployed</td>\n",
       "      <td>south_america</td>\n",
       "      <td>4</td>\n",
       "      <td>0.94</td>\n",
       "      <td>1</td>\n",
       "    </tr>\n",
       "    <tr>\n",
       "      <th>1</th>\n",
       "      <td>social_media</td>\n",
       "      <td>retail</td>\n",
       "      <td>1</td>\n",
       "      <td>46992.0</td>\n",
       "      <td>employed</td>\n",
       "      <td>south_america</td>\n",
       "      <td>1</td>\n",
       "      <td>0.80</td>\n",
       "      <td>0</td>\n",
       "    </tr>\n",
       "    <tr>\n",
       "      <th>2</th>\n",
       "      <td>events</td>\n",
       "      <td>healthcare</td>\n",
       "      <td>5</td>\n",
       "      <td>78796.0</td>\n",
       "      <td>unemployed</td>\n",
       "      <td>australia</td>\n",
       "      <td>3</td>\n",
       "      <td>0.69</td>\n",
       "      <td>1</td>\n",
       "    </tr>\n",
       "    <tr>\n",
       "      <th>3</th>\n",
       "      <td>paid_ads</td>\n",
       "      <td>retail</td>\n",
       "      <td>2</td>\n",
       "      <td>83843.0</td>\n",
       "      <td>NaN</td>\n",
       "      <td>australia</td>\n",
       "      <td>1</td>\n",
       "      <td>0.87</td>\n",
       "      <td>0</td>\n",
       "    </tr>\n",
       "    <tr>\n",
       "      <th>4</th>\n",
       "      <td>referral</td>\n",
       "      <td>education</td>\n",
       "      <td>3</td>\n",
       "      <td>85012.0</td>\n",
       "      <td>self_employed</td>\n",
       "      <td>europe</td>\n",
       "      <td>3</td>\n",
       "      <td>0.62</td>\n",
       "      <td>1</td>\n",
       "    </tr>\n",
       "  </tbody>\n",
       "</table>\n",
       "</div>"
      ],
      "text/plain": [
       "    lead_source    industry  number_of_courses_viewed  annual_income  \\\n",
       "0      paid_ads         NaN                         1        79450.0   \n",
       "1  social_media      retail                         1        46992.0   \n",
       "2        events  healthcare                         5        78796.0   \n",
       "3      paid_ads      retail                         2        83843.0   \n",
       "4      referral   education                         3        85012.0   \n",
       "\n",
       "  employment_status       location  interaction_count  lead_score  converted  \n",
       "0        unemployed  south_america                  4        0.94          1  \n",
       "1          employed  south_america                  1        0.80          0  \n",
       "2        unemployed      australia                  3        0.69          1  \n",
       "3               NaN      australia                  1        0.87          0  \n",
       "4     self_employed         europe                  3        0.62          1  "
      ]
     },
     "execution_count": 129,
     "metadata": {},
     "output_type": "execute_result"
    }
   ],
   "source": [
    "df = pd.read_csv(\"https://raw.githubusercontent.com/alexeygrigorev/datasets/master/course_lead_scoring.csv\")\n",
    "df.head()"
   ]
  },
  {
   "cell_type": "code",
   "execution_count": 130,
   "id": "168186f3",
   "metadata": {},
   "outputs": [
    {
     "name": "stdout",
     "output_type": "stream",
     "text": [
      "<class 'pandas.core.frame.DataFrame'>\n",
      "RangeIndex: 1462 entries, 0 to 1461\n",
      "Data columns (total 9 columns):\n",
      " #   Column                    Non-Null Count  Dtype  \n",
      "---  ------                    --------------  -----  \n",
      " 0   lead_source               1334 non-null   object \n",
      " 1   industry                  1328 non-null   object \n",
      " 2   number_of_courses_viewed  1462 non-null   int64  \n",
      " 3   annual_income             1281 non-null   float64\n",
      " 4   employment_status         1362 non-null   object \n",
      " 5   location                  1399 non-null   object \n",
      " 6   interaction_count         1462 non-null   int64  \n",
      " 7   lead_score                1462 non-null   float64\n",
      " 8   converted                 1462 non-null   int64  \n",
      "dtypes: float64(2), int64(3), object(4)\n",
      "memory usage: 102.9+ KB\n"
     ]
    }
   ],
   "source": [
    "df.info()"
   ]
  },
  {
   "cell_type": "code",
   "execution_count": 131,
   "id": "8c7c4a3c",
   "metadata": {},
   "outputs": [
    {
     "data": {
      "text/html": [
       "<div>\n",
       "<style scoped>\n",
       "    .dataframe tbody tr th:only-of-type {\n",
       "        vertical-align: middle;\n",
       "    }\n",
       "\n",
       "    .dataframe tbody tr th {\n",
       "        vertical-align: top;\n",
       "    }\n",
       "\n",
       "    .dataframe thead th {\n",
       "        text-align: right;\n",
       "    }\n",
       "</style>\n",
       "<table border=\"1\" class=\"dataframe\">\n",
       "  <thead>\n",
       "    <tr style=\"text-align: right;\">\n",
       "      <th></th>\n",
       "      <th>number_of_courses_viewed</th>\n",
       "      <th>annual_income</th>\n",
       "      <th>interaction_count</th>\n",
       "      <th>lead_score</th>\n",
       "      <th>converted</th>\n",
       "    </tr>\n",
       "  </thead>\n",
       "  <tbody>\n",
       "    <tr>\n",
       "      <th>count</th>\n",
       "      <td>1462.000000</td>\n",
       "      <td>1281.000000</td>\n",
       "      <td>1462.000000</td>\n",
       "      <td>1462.000000</td>\n",
       "      <td>1462.000000</td>\n",
       "    </tr>\n",
       "    <tr>\n",
       "      <th>mean</th>\n",
       "      <td>2.031464</td>\n",
       "      <td>59886.273224</td>\n",
       "      <td>2.976744</td>\n",
       "      <td>0.506108</td>\n",
       "      <td>0.619015</td>\n",
       "    </tr>\n",
       "    <tr>\n",
       "      <th>std</th>\n",
       "      <td>1.449717</td>\n",
       "      <td>15070.140389</td>\n",
       "      <td>1.681564</td>\n",
       "      <td>0.288465</td>\n",
       "      <td>0.485795</td>\n",
       "    </tr>\n",
       "    <tr>\n",
       "      <th>min</th>\n",
       "      <td>0.000000</td>\n",
       "      <td>13929.000000</td>\n",
       "      <td>0.000000</td>\n",
       "      <td>0.000000</td>\n",
       "      <td>0.000000</td>\n",
       "    </tr>\n",
       "    <tr>\n",
       "      <th>25%</th>\n",
       "      <td>1.000000</td>\n",
       "      <td>49698.000000</td>\n",
       "      <td>2.000000</td>\n",
       "      <td>0.262500</td>\n",
       "      <td>0.000000</td>\n",
       "    </tr>\n",
       "    <tr>\n",
       "      <th>50%</th>\n",
       "      <td>2.000000</td>\n",
       "      <td>60148.000000</td>\n",
       "      <td>3.000000</td>\n",
       "      <td>0.510000</td>\n",
       "      <td>1.000000</td>\n",
       "    </tr>\n",
       "    <tr>\n",
       "      <th>75%</th>\n",
       "      <td>3.000000</td>\n",
       "      <td>69639.000000</td>\n",
       "      <td>4.000000</td>\n",
       "      <td>0.750000</td>\n",
       "      <td>1.000000</td>\n",
       "    </tr>\n",
       "    <tr>\n",
       "      <th>max</th>\n",
       "      <td>9.000000</td>\n",
       "      <td>109899.000000</td>\n",
       "      <td>11.000000</td>\n",
       "      <td>1.000000</td>\n",
       "      <td>1.000000</td>\n",
       "    </tr>\n",
       "  </tbody>\n",
       "</table>\n",
       "</div>"
      ],
      "text/plain": [
       "       number_of_courses_viewed  annual_income  interaction_count  \\\n",
       "count               1462.000000    1281.000000        1462.000000   \n",
       "mean                   2.031464   59886.273224           2.976744   \n",
       "std                    1.449717   15070.140389           1.681564   \n",
       "min                    0.000000   13929.000000           0.000000   \n",
       "25%                    1.000000   49698.000000           2.000000   \n",
       "50%                    2.000000   60148.000000           3.000000   \n",
       "75%                    3.000000   69639.000000           4.000000   \n",
       "max                    9.000000  109899.000000          11.000000   \n",
       "\n",
       "        lead_score    converted  \n",
       "count  1462.000000  1462.000000  \n",
       "mean      0.506108     0.619015  \n",
       "std       0.288465     0.485795  \n",
       "min       0.000000     0.000000  \n",
       "25%       0.262500     0.000000  \n",
       "50%       0.510000     1.000000  \n",
       "75%       0.750000     1.000000  \n",
       "max       1.000000     1.000000  "
      ]
     },
     "execution_count": 131,
     "metadata": {},
     "output_type": "execute_result"
    }
   ],
   "source": [
    "df.describe()"
   ]
  },
  {
   "cell_type": "code",
   "execution_count": 132,
   "id": "31dfdd04",
   "metadata": {},
   "outputs": [
    {
     "name": "stdout",
     "output_type": "stream",
     "text": [
      "\n",
      "Missing values per column:\n",
      "\n",
      "lead_source                 128\n",
      "industry                    134\n",
      "number_of_courses_viewed      0\n",
      "annual_income               181\n",
      "employment_status           100\n",
      "location                     63\n",
      "interaction_count             0\n",
      "lead_score                    0\n",
      "converted                     0\n",
      "dtype: int64\n"
     ]
    }
   ],
   "source": [
    "# Check for missing values\n",
    "\n",
    "print(\"\\nMissing values per column:\\n\")\n",
    "print(df.isnull().sum())"
   ]
  },
  {
   "cell_type": "code",
   "execution_count": 133,
   "id": "87fd4a2a",
   "metadata": {},
   "outputs": [],
   "source": [
    "# Replace missing values - For categorical features:'NA'\n",
    "\n",
    "categorical_cols = df.select_dtypes(include='object').columns\n",
    "df[categorical_cols] = df[categorical_cols].fillna('NA')\n",
    "\n",
    "# Replace missing values - For numeric features :0.0\n",
    "\n",
    "numeric_cols = [col for col in df.columns if col not in categorical_cols]\n",
    "df[numeric_cols] = df[numeric_cols].fillna(0.0)"
   ]
  },
  {
   "cell_type": "code",
   "execution_count": 134,
   "id": "eca10b82",
   "metadata": {},
   "outputs": [
    {
     "name": "stdout",
     "output_type": "stream",
     "text": [
      "\n",
      "Missing values per column:\n",
      "\n",
      "lead_source                 0\n",
      "industry                    0\n",
      "number_of_courses_viewed    0\n",
      "annual_income               0\n",
      "employment_status           0\n",
      "location                    0\n",
      "interaction_count           0\n",
      "lead_score                  0\n",
      "converted                   0\n",
      "dtype: int64\n"
     ]
    }
   ],
   "source": [
    "# Data preparation\n",
    "# Check if the missing values are presented in the features.\n",
    "# If there are missing values:\n",
    "# For caterogiral features, replace them with 'NA'\n",
    "# For numerical features, replace with with 0.0\n",
    "    \n",
    "# Check for missing values\n",
    "\n",
    "print(\"\\nMissing values per column:\\n\")\n",
    "print(df.isnull().sum())"
   ]
  },
  {
   "cell_type": "code",
   "execution_count": 135,
   "id": "73998f07",
   "metadata": {},
   "outputs": [
    {
     "name": "stdout",
     "output_type": "stream",
     "text": [
      "Train Set: 876 \n",
      "Validation Set: 293 \n",
      "Test Set: 293\n"
     ]
    }
   ],
   "source": [
    "# Split the data into 3 parts: train/validation/test with 60%/20%/20% distribution. \n",
    "# Use train_test_split function for that with random_state=1\n",
    "\n",
    "full_train_df, test_df = train_test_split(df, test_size=0.2, random_state=1)\n",
    "train_df, val_df = train_test_split(full_train_df, test_size=0.25, random_state=1)\n",
    "print(f\"Train Set: {len(train_df)} \\nValidation Set: {len(val_df)} \\nTest Set: {len(test_df)}\")"
   ]
  },
  {
   "cell_type": "code",
   "execution_count": 136,
   "id": "1254e24e",
   "metadata": {},
   "outputs": [],
   "source": [
    "target = \"converted\"\n",
    "\n",
    "categorical_columns = list(categorical_cols)\n",
    "features = [col for col in numeric_cols + categorical_columns if col != target]\n",
    "\n",
    "# Training set\n",
    "X_train = train_df[features].reset_index(drop=True)\n",
    "y_train = train_df[target].reset_index(drop=True)\n",
    "\n",
    "# Validation set\n",
    "X_val = val_df[features].reset_index(drop=True)\n",
    "y_val = val_df[target].reset_index(drop=True)\n",
    "\n",
    "# Test set\n",
    "X_test = test_df[features].reset_index(drop=True)\n",
    "y_test = test_df[target].reset_index(drop=True)"
   ]
  },
  {
   "cell_type": "code",
   "execution_count": 137,
   "id": "63e39bb0",
   "metadata": {},
   "outputs": [
    {
     "name": "stdout",
     "output_type": "stream",
     "text": [
      "(876, 8) (876,)\n",
      "(293, 8) (293,)\n",
      "(293, 8) (293,)\n"
     ]
    }
   ],
   "source": [
    "print(X_train.shape, y_train.shape)\n",
    "print(X_val.shape, y_val.shape)\n",
    "print(X_test.shape, y_test.shape)"
   ]
  },
  {
   "cell_type": "markdown",
   "id": "a49b506f",
   "metadata": {},
   "source": [
    "Question 1: ROC AUC feature importance\n",
    "ROC AUC could also be used to evaluate feature importance of numerical variables.\n",
    "\n",
    "Let's do that\n",
    "* For each numerical variable, use it as score (aka prediction) and compute the AUC with the y variable as ground truth.\n",
    "* Use the training dataset for that\n",
    "\n",
    "If your AUC is < 0.5, invert this variable by putting \"-\" in front\n",
    "\n",
    "(e.g. -df_train['balance'])\n",
    "\n",
    "AUC can go below 0.5 if the variable is negatively correlated with the target variable. You can change the direction of the correlation by negating this variable - then negative correlation becomes positive.\n",
    "\n",
    "Which numerical variable (among the following 4) has the highest AUC?\n",
    "\n",
    "* lead_score\n",
    "* number_of_courses_viewed\n",
    "* interaction_count\n",
    "* annual_income"
   ]
  },
  {
   "cell_type": "code",
   "execution_count": 138,
   "id": "0fd709f4",
   "metadata": {},
   "outputs": [
    {
     "name": "stdout",
     "output_type": "stream",
     "text": [
      "number_of_courses_viewed      | AUC: 0.7636\n",
      "annual_income                 | AUC: 0.5520\n",
      "interaction_count             | AUC: 0.7383\n",
      "lead_score                    | AUC: 0.6145\n"
     ]
    }
   ],
   "source": [
    "numerics = features = [col for col in numeric_cols if col != target]\n",
    "for col in numerics:\n",
    "    auc = roc_auc_score(y_train, X_train[col])\n",
    "    if auc < 0.5:\n",
    "        auc = roc_auc_score(y_train, X_train[col])\n",
    "    print(f\"{col:<30}| AUC: {auc:.4f}\")"
   ]
  },
  {
   "cell_type": "markdown",
   "id": "601eabb0",
   "metadata": {},
   "source": [
    "number_of_courses_viewed has the highest AUC"
   ]
  },
  {
   "cell_type": "markdown",
   "id": "f8a24d1e",
   "metadata": {},
   "source": [
    "Question 2: Training the model\n",
    "Apply one-hot-encoding using DictVectorizer and train the logistic regression with these parameters:\n",
    "\n",
    "* LogisticRegression(solver='liblinear', C=1.0, max_iter=1000)\n",
    "\n",
    "What's the AUC of this model on the validation dataset? (round to 3 digits)"
   ]
  },
  {
   "cell_type": "code",
   "execution_count": 139,
   "id": "4b33d6fe",
   "metadata": {},
   "outputs": [
    {
     "name": "stdout",
     "output_type": "stream",
     "text": [
      "X_train Shape: (876, 31), X_val Shape: (293, 31)\n"
     ]
    }
   ],
   "source": [
    "# One-hot encoding\n",
    "dv = DictVectorizer(sparse=False)\n",
    "\n",
    "X_train = dv.fit_transform(X_train.to_dict(orient=\"records\"))\n",
    "X_val = dv.transform(X_val.to_dict(orient=\"records\"))\n",
    "\n",
    "print(f\"X_train Shape: {X_train.shape}, X_val Shape: {X_val.shape}\")"
   ]
  },
  {
   "cell_type": "code",
   "execution_count": 140,
   "id": "2dfead5c",
   "metadata": {},
   "outputs": [
    {
     "name": "stdout",
     "output_type": "stream",
     "text": [
      "Validation set AUC: 0.817\n"
     ]
    }
   ],
   "source": [
    "# Model Training \n",
    "\n",
    "model = LogisticRegression(solver=\"liblinear\", C=1.0, max_iter=1_000)\n",
    "model.fit(X_train, y_train)\n",
    "\n",
    "# Predictions\n",
    "y_pred = model.predict_proba(X_val)[:, 1]\n",
    "\n",
    "# AUC score\n",
    "auc = roc_auc_score(y_val, y_pred)\n",
    "print(f\"Validation set AUC: {auc:.3f}\")"
   ]
  },
  {
   "cell_type": "markdown",
   "id": "4be8021b",
   "metadata": {},
   "source": [
    "Question 3: Precision and Recall\n",
    "\n",
    "Now let's compute precision and recall for our model.\n",
    "\n",
    "* Evaluate the model on all thresholds from 0.0 to 1.0 with step 0.01\n",
    "* For each threshold, compute precision and recall\n",
    "* Plot them\n",
    "\n",
    "At which threshold precision and recall curves intersect?"
   ]
  },
  {
   "cell_type": "code",
   "execution_count": 141,
   "id": "1dd87b23",
   "metadata": {},
   "outputs": [
    {
     "name": "stdout",
     "output_type": "stream",
     "text": [
      "Intersection threshold: 0.640\n"
     ]
    }
   ],
   "source": [
    "# Thresholds definition\n",
    "thresholds = np.arange(0.0, 1.01, 0.01)\n",
    "scores = []\n",
    "\n",
    "# Evaluate thresholds\n",
    "for eval in thresholds:\n",
    "    y_val_binary = (y_pred >= eval).astype(int)\n",
    "\n",
    "    # Calculate Precision and Recall\n",
    "    precision = precision_score(y_val, y_val_binary, zero_division=0)\n",
    "    recall = recall_score(y_val, y_val_binary)\n",
    "\n",
    "    scores.append((eval, precision, recall))\n",
    "\n",
    "df_scores = pd.DataFrame(scores, columns=[\"threshold\", \"precision\", \"recall\"])\n",
    "\n",
    "# precision vs recall\n",
    "df_scores[\"difference\"] = np.abs(df_scores[\"precision\"] - df_scores[\"recall\"])\n",
    "\n",
    "# Find the threshold where this difference is minimal\n",
    "intersection_threshold = (df_scores.query(\"precision != 0 & recall != 0\").sort_values(by=\"difference\").head(1)[\"threshold\"].values[0])\n",
    "print(f\"Intersection threshold: {intersection_threshold:.3f}\")"
   ]
  },
  {
   "cell_type": "code",
   "execution_count": 142,
   "id": "a40fd13e",
   "metadata": {},
   "outputs": [
    {
     "data": {
      "image/png": "[encoded data removed]",
      "text/plain": [
       "<Figure size 800x500 with 1 Axes>"
      ]
     },
     "metadata": {},
     "output_type": "display_data"
    }
   ],
   "source": [
    "# Precision and Recall vs Threshold plot\n",
    "plt.figure(figsize=(8, 5))\n",
    "\n",
    "# Plot Precision\n",
    "sns.lineplot(\n",
    "    x=\"threshold\",\n",
    "    y=\"precision\",\n",
    "    data=df_scores,\n",
    "    label=\"Precision\",\n",
    "    color=\"skyblue\",\n",
    ")\n",
    "\n",
    "# Plot Recall\n",
    "sns.lineplot(\n",
    "    x=\"threshold\",\n",
    "    y=\"recall\",\n",
    "    data=df_scores,\n",
    "    label=\"Recall\",\n",
    "    color=\"salmon\",\n",
    ")\n",
    "\n",
    "# Mark the intersection threshold\n",
    "plt.axvline(\n",
    "    x=intersection_threshold,\n",
    "    color=\"gray\",\n",
    "    linestyle=\"--\",\n",
    "    label=f\"Intersection Threshold ≈ {intersection_threshold:.2f}\",\n",
    ")\n",
    "\n",
    "# Labels and title\n",
    "plt.xlabel(\"Threshold\")\n",
    "plt.ylabel(\"Score\")\n",
    "plt.title(\"Precision and Recall vs. Threshold\")\n",
    "\n",
    "# Optional: remove grid\n",
    "plt.grid(False)\n",
    "\n",
    "# Legend\n",
    "plt.legend()\n",
    "\n",
    "# Show plot\n",
    "plt.show()\n"
   ]
  },
  {
   "attachments": {
    "image.png": {
     "image/png": "[encoded data removed]"
    }
   },
   "cell_type": "markdown",
   "id": "f20cdccd",
   "metadata": {},
   "source": [
    "Question 4: F1 score\n",
    "\n",
    "Precision and recall are conflicting - when one grows, the other goes down. That's why they are often combined into the F1 score - a metrics that takes into account both\n",
    "\n",
    "This is the formula for computing F1:\n",
    "\n",
    "![image.png](attachment:image.png)\n",
    "\n",
    "Where P is precision and  R is recall.\n",
    "\n",
    "Let's compute F1 for all thresholds from 0.0 to 1.0 with increment 0.01\n",
    "\n",
    "At which threshold F1 is maximal?"
   ]
  },
  {
   "cell_type": "code",
   "execution_count": 143,
   "id": "c826e704",
   "metadata": {},
   "outputs": [
    {
     "name": "stdout",
     "output_type": "stream",
     "text": [
      "F1 is maximal at threshold: 0.5700\n"
     ]
    }
   ],
   "source": [
    "df_scores[\"f1_score\"] = (2 * (df_scores.precision * df_scores.recall) / (df_scores.precision + df_scores.recall))\n",
    "best_f1 = df_scores.iloc[np.argmax(df_scores.f1_score)][\"threshold\"]\n",
    "print(f\"F1 is maximal at threshold: {best_f1:.4f}\")"
   ]
  },
  {
   "cell_type": "markdown",
   "id": "8fa9129b",
   "metadata": {},
   "source": [
    "Question 5: 5-Fold CV\n",
    "\n",
    "Use the KFold class from Scikit-Learn to evaluate our model on 5 different folds:\n",
    "\n",
    "KFold(n_splits=5, shuffle=True, random_state=1)\n",
    "\n",
    "* Iterate over different folds of df_full_train\n",
    "* Split the data into train and validation\n",
    "* Train the model on train with these parameters: LogisticRegression(solver='liblinear', C=1.0, max_iter=1000)\n",
    "* Use AUC to evaluate the model on validation\n",
    "* How large is standard deviation of the scores across different folds?"
   ]
  },
  {
   "cell_type": "code",
   "execution_count": 144,
   "id": "4cf55452",
   "metadata": {},
   "outputs": [
    {
     "name": "stdout",
     "output_type": "stream",
     "text": [
      "AUC scores for each fold: [0.7897714583488423, 0.8520603643756353, 0.7644069121901634, 0.7872042341220424, 0.8494041170097508]\n",
      "AUC standard deviation: 0.0356\n"
     ]
    }
   ],
   "source": [
    "# Set up 5-fold cross-validation\n",
    "kf = KFold(n_splits=5, shuffle=True, random_state=1)\n",
    "fold_auc_scores = []\n",
    "\n",
    "# Iterate over each fold\n",
    "for train_indices, val_indices in kf.split(full_train_df):\n",
    "    # Split data into fold-specific training and validation sets\n",
    "    fold_train_df = full_train_df.iloc[train_indices]\n",
    "    fold_val_df = full_train_df.iloc[val_indices]\n",
    "\n",
    "    # Extract target arrays\n",
    "    y_fold_train = fold_train_df[target].values\n",
    "    y_fold_val = fold_val_df[target].values\n",
    "\n",
    "    # Convert features to one-hot encoding\n",
    "    vectorizer = DictVectorizer(sparse=False)\n",
    "    X_fold_train = vectorizer.fit_transform(fold_train_df[features].to_dict(orient=\"records\"))\n",
    "    X_fold_val = vectorizer.transform(fold_val_df[features].to_dict(orient=\"records\"))\n",
    "\n",
    "    # Fit logistic regression on the training fold\n",
    "    clf = LogisticRegression(solver=\"liblinear\", C=1.0, max_iter=1000)\n",
    "    clf.fit(X_fold_train, y_fold_train)\n",
    "\n",
    "    # Predict probabilities and calculate AUC for validation fold\n",
    "    y_fold_pred = clf.predict_proba(X_fold_val)[:, 1]\n",
    "    fold_auc_scores.append(roc_auc_score(y_fold_val, y_fold_pred))\n",
    "\n",
    "# Calculate standard deviation of the fold AUCs\n",
    "auc_std_dev = np.std(fold_auc_scores)\n",
    "\n",
    "# Display results\n",
    "print(f\"AUC scores for each fold: {[score for score in fold_auc_scores]}\")\n",
    "print(f\"AUC standard deviation: {auc_std_dev:.4f}\")\n"
   ]
  },
  {
   "cell_type": "markdown",
   "id": "a75aee7f",
   "metadata": {},
   "source": [
    "Question 6: Hyperparameter Tuning\n",
    "\n",
    "Now let's use 5-Fold cross-validation to find the best parameter C\n",
    "\n",
    "* Iterate over the following C values: [0.000001, 0.001, 1]\n",
    "* Initialize KFold with the same parameters as previously\n",
    "* Use these parameters for the model: LogisticRegression(solver='liblinear', C=C, max_iter=1000)\n",
    "* Compute the mean score as well as the std (round the mean and std to 3 decimal digits)\n",
    "\n",
    "Which C leads to the best mean score?"
   ]
  },
  {
   "cell_type": "code",
   "execution_count": 145,
   "id": "419492bd",
   "metadata": {},
   "outputs": [
    {
     "name": "stdout",
     "output_type": "stream",
     "text": [
      "C = 0.000001 | Mean AUC = 0.560 | Std = 0.024\n",
      "C = 0.001000 | Mean AUC = 0.857 | Std = 0.030\n",
      "C = 1.000000 | Mean AUC = 0.809 | Std = 0.036\n"
     ]
    }
   ],
   "source": [
    "# Define different regularization strengths to test\n",
    "C = [0.000001, 0.001, 1]\n",
    "\n",
    "# Set up 5-fold cross-validation\n",
    "kf = KFold(n_splits=5, shuffle=True, random_state=1)\n",
    "\n",
    "# Dictionary to store results\n",
    "cv_summary = {}\n",
    "\n",
    "# Iterate over each C value\n",
    "for C_val in C:\n",
    "    fold_aucs = []\n",
    "\n",
    "    # Perform k-fold cross-validation\n",
    "    for train_idx, val_idx in kf.split(full_train_df):\n",
    "        # Split training and validation data for this fold\n",
    "        fold_train = full_train_df.iloc[train_idx]\n",
    "        fold_val = full_train_df.iloc[val_idx]\n",
    "\n",
    "        # Extract target arrays\n",
    "        y_fold_train = fold_train[target].values\n",
    "        y_fold_val = fold_val[target].values\n",
    "\n",
    "        # One-hot encode features\n",
    "        vectorizer = DictVectorizer(sparse=False)\n",
    "        X_fold_train = vectorizer.fit_transform(fold_train[features].to_dict(orient=\"records\"))\n",
    "        X_fold_val = vectorizer.transform(fold_val[features].to_dict(orient=\"records\"))\n",
    "\n",
    "        # Train logistic regression with current C\n",
    "        clf = LogisticRegression(solver=\"liblinear\", C=C_val, max_iter=1000)\n",
    "        clf.fit(X_fold_train, y_fold_train)\n",
    "\n",
    "        # Predict probabilities and compute AUC\n",
    "        y_fold_pred = clf.predict_proba(X_fold_val)[:, 1]\n",
    "        fold_aucs.append(roc_auc_score(y_fold_val, y_fold_pred))\n",
    "\n",
    "    # Compute mean and standard deviation of AUC across folds\n",
    "    mean_auc = np.mean(fold_aucs)\n",
    "    std_auc = np.std(fold_aucs)\n",
    "\n",
    "    # Save results for this C value\n",
    "    cv_summary[C_val] = {\"mean_auc\": mean_auc, \"std_auc\": std_auc}\n",
    "\n",
    "    # Display results\n",
    "    print(f\"C = {C_val:<5.6f} | Mean AUC = {mean_auc:.3f} | Std = {std_auc:.3f}\")"
   ]
  },
  {
   "cell_type": "code",
   "execution_count": null,
   "id": "828a0cd0",
   "metadata": {},
   "outputs": [],
   "source": []
  }
 ],
 "metadata": {
  "kernelspec": {
   "display_name": "Python 3",
   "language": "python",
   "name": "python3"
  },
  "language_info": {
   "codemirror_mode": {
    "name": "ipython",
    "version": 3
   },
   "file_extension": ".py",
   "mimetype": "text/x-python",
   "name": "python",
   "nbconvert_exporter": "python",
   "pygments_lexer": "ipython3",
   "version": "3.12.1"
  }
 },
 "nbformat": 4,
 "nbformat_minor": 5
}
